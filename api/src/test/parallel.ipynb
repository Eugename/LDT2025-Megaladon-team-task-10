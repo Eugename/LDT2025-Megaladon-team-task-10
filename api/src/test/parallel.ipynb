{
 "cells": [
  {
   "cell_type": "code",
   "execution_count": 43,
   "id": "bdbf8595",
   "metadata": {},
   "outputs": [],
   "source": [
    "import requests\n",
    "import time\n",
    "from concurrent.futures import ThreadPoolExecutor\n",
    "import matplotlib.pyplot as plt"
   ]
  },
  {
   "cell_type": "code",
   "execution_count": 26,
   "id": "62e0d534",
   "metadata": {},
   "outputs": [],
   "source": [
    "def execute_in_threads(function, items: list):\n",
    "    \"\"\"\n",
    "    Выполняет функцию в потоках для списка элементов.\n",
    "\n",
    "    Args:\n",
    "        function (callable): Функция для выполнения.\n",
    "        items (iterable): Список элементов для обработки.\n",
    "\n",
    "    Returns:\n",
    "        list: Результаты выполнения функции.\n",
    "    \"\"\"\n",
    "    current_time = time.time()\n",
    "    with ThreadPoolExecutor() as executor:\n",
    "        results = executor.map(function, items)\n",
    "    \n",
    "    res_time = time.time() - current_time\n",
    "    return list(results), res_time"
   ]
  },
  {
   "cell_type": "code",
   "execution_count": 12,
   "id": "c8f81f2d",
   "metadata": {},
   "outputs": [],
   "source": [
    "def predictions(input: str):\n",
    "    response = requests.post(\n",
    "        \"http://localhost/api/predict\",\n",
    "        json={\"input\": input},\n",
    "        timeout=200\n",
    "    )\n",
    "    return response.json()"
   ]
  },
  {
   "cell_type": "code",
   "execution_count": 35,
   "id": "db4ff93a",
   "metadata": {},
   "outputs": [],
   "source": [
    "inputs8 = [\"кола зеро 2л\", \"хер 3 штуки\", \"хентай\", \"пиво сок говна кусок\", \"балтика девятка 9 литров\", \"сок сады говна 1 тонна\", \"пенис 33см\", \"     \", \"доктор пеппер 1 банка\",]"
   ]
  },
  {
   "cell_type": "code",
   "execution_count": 36,
   "id": "c7980f91",
   "metadata": {},
   "outputs": [],
   "source": [
    "inputs5 = [\"кола зеро 2л\", \"хер 3 штуки\", \"хентай\", \"пиво сок говна кусок\", \"балтика девятка 9 литров\"]"
   ]
  },
  {
   "cell_type": "code",
   "execution_count": 37,
   "id": "3710c766",
   "metadata": {},
   "outputs": [],
   "source": [
    "inputs1 = [\"кола зеро 2л\"]"
   ]
  },
  {
   "cell_type": "code",
   "execution_count": 38,
   "id": "eaa2519f",
   "metadata": {},
   "outputs": [],
   "source": [
    "inputs2 = [\"кола зеро 2л\", \"хер 3 штуки\",]"
   ]
  },
  {
   "cell_type": "code",
   "execution_count": 40,
   "id": "806d0afd",
   "metadata": {},
   "outputs": [],
   "source": [
    "res, work_time = execute_in_threads(predictions, inputs5)"
   ]
  },
  {
   "cell_type": "code",
   "execution_count": 41,
   "id": "eaa128b4",
   "metadata": {},
   "outputs": [
    {
     "data": {
      "text/plain": [
       "5.011169672012329"
      ]
     },
     "execution_count": 41,
     "metadata": {},
     "output_type": "execute_result"
    }
   ],
   "source": [
    "work_time"
   ]
  },
  {
   "cell_type": "code",
   "execution_count": 56,
   "id": "a387c55e",
   "metadata": {},
   "outputs": [],
   "source": [
    "times = []\n",
    "for i in range (1, 100):\n",
    "    inputs = [\"кола зеро 2л\"]*i\n",
    "    res, work_time = execute_in_threads(predictions, inputs)\n",
    "    times.append(work_time)"
   ]
  },
  {
   "cell_type": "code",
   "execution_count": 58,
   "id": "fa0e2e84",
   "metadata": {},
   "outputs": [
    {
     "data": {
      "text/plain": [
       "[0.22554516792297363,\n",
       " 0.3164854049682617,\n",
       " 0.5882141590118408,\n",
       " 0.7287602424621582,\n",
       " 0.7141306400299072,\n",
       " 0.9968411922454834,\n",
       " 1.1292626857757568,\n",
       " 1.2179739475250244,\n",
       " 1.3291304111480713,\n",
       " 1.6693322658538818,\n",
       " 1.9051017761230469,\n",
       " 1.9389965534210205,\n",
       " 2.110638380050659,\n",
       " 2.2034387588500977,\n",
       " 2.527733564376831,\n",
       " 2.5176169872283936,\n",
       " 2.656797409057617,\n",
       " 2.868983030319214,\n",
       " 3.1055452823638916,\n",
       " 3.1555891036987305,\n",
       " 3.5119411945343018,\n",
       " 3.7218174934387207,\n",
       " 3.9925665855407715,\n",
       " 4.307961702346802,\n",
       " 4.142336368560791,\n",
       " 4.076110601425171,\n",
       " 4.170069932937622,\n",
       " 4.61066460609436,\n",
       " 4.7653937339782715,\n",
       " 4.590304613113403,\n",
       " 4.8082029819488525,\n",
       " 4.954721450805664,\n",
       " 5.073611736297607,\n",
       " 5.524317741394043,\n",
       " 5.681150436401367,\n",
       " 5.162613153457642,\n",
       " 5.456077814102173,\n",
       " 6.157395124435425,\n",
       " 6.660148620605469,\n",
       " 6.678210735321045,\n",
       " 6.707385301589966,\n",
       " 5.896398544311523,\n",
       " 6.401150226593018,\n",
       " 6.595054864883423,\n",
       " 6.667954683303833,\n",
       " 6.104800701141357,\n",
       " 6.896107912063599,\n",
       " 7.292900562286377,\n",
       " 7.647268533706665,\n",
       " 7.9256813526153564,\n",
       " 8.363606214523315,\n",
       " 7.66460919380188,\n",
       " 7.868539094924927,\n",
       " 8.797475337982178,\n",
       " 8.529316902160645,\n",
       " 8.474289894104004,\n",
       " 8.351343393325806,\n",
       " 8.143941402435303,\n",
       " 9.392539978027344,\n",
       " 8.396220445632935,\n",
       " 9.396796464920044,\n",
       " 10.13912034034729,\n",
       " 8.976253986358643,\n",
       " 9.515755653381348,\n",
       " 9.814100742340088,\n",
       " 10.388402938842773,\n",
       " 10.673571825027466,\n",
       " 10.149362325668335,\n",
       " 10.434602975845337,\n",
       " 11.12691879272461,\n",
       " 9.899287939071655,\n",
       " 10.610757112503052,\n",
       " 13.110294818878174,\n",
       " 13.417028665542603,\n",
       " 13.300555229187012,\n",
       " 10.526577472686768,\n",
       " 12.151310205459595,\n",
       " 13.166013240814209,\n",
       " 12.14347529411316,\n",
       " 13.426912069320679,\n",
       " 12.472755432128906,\n",
       " 11.762842178344727,\n",
       " 13.381983757019043,\n",
       " 12.351710796356201,\n",
       " 13.3077712059021,\n",
       " 13.631456136703491,\n",
       " 14.020131826400757,\n",
       " 13.615159034729004,\n",
       " 13.373847484588623,\n",
       " 15.924250364303589,\n",
       " 14.27964162826538,\n",
       " 13.5020592212677,\n",
       " 14.135942697525024,\n",
       " 14.219423055648804,\n",
       " 13.082414150238037,\n",
       " 14.37160062789917,\n",
       " 14.442206621170044,\n",
       " 16.872410535812378,\n",
       " 14.281967639923096]"
      ]
     },
     "execution_count": 58,
     "metadata": {},
     "output_type": "execute_result"
    }
   ],
   "source": [
    "times"
   ]
  },
  {
   "cell_type": "code",
   "execution_count": 57,
   "id": "16f4474d",
   "metadata": {},
   "outputs": [
    {
     "data": {
      "text/plain": [
       "[<matplotlib.lines.Line2D at 0x159486e9870>]"
      ]
     },
     "execution_count": 57,
     "metadata": {},
     "output_type": "execute_result"
    },
    {
     "data": {
      "image/png": "[encoded data removed]",
      "text/plain": [
       "<Figure size 640x480 with 1 Axes>"
      ]
     },
     "metadata": {},
     "output_type": "display_data"
    }
   ],
   "source": [
    "plt.plot(range(0, len(times)), times)\n",
    "plt.plot(range(0, len(times)), range(0, len(times)))"
   ]
  },
  {
   "cell_type": "code",
   "execution_count": null,
   "id": "ef7e74c5",
   "metadata": {},
   "outputs": [],
   "source": []
  }
 ],
 "metadata": {
  "kernelspec": {
   "display_name": "Python 3",
   "language": "python",
   "name": "python3"
  },
  "language_info": {
   "codemirror_mode": {
    "name": "ipython",
    "version": 3
   },
   "file_extension": ".py",
   "mimetype": "text/x-python",
   "name": "python",
   "nbconvert_exporter": "python",
   "pygments_lexer": "ipython3",
   "version": "3.10.0"
  }
 },
 "nbformat": 4,
 "nbformat_minor": 5
}
